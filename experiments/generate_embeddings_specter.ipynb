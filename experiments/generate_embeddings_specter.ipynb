{
 "cells": [
  {
   "cell_type": "code",
   "execution_count": null,
   "metadata": {
    "_cell_guid": "b1076dfc-b9ad-4769-8c92-a6c4dae69d19",
    "_uuid": "8f2839f25d086af736a60e9eeb907d3b93b6e0e5",
    "execution": {
     "iopub.execute_input": "2022-06-23T00:20:14.082850Z",
     "iopub.status.busy": "2022-06-23T00:20:14.082471Z",
     "iopub.status.idle": "2022-06-23T00:20:14.089509Z",
     "shell.execute_reply": "2022-06-23T00:20:14.088441Z",
     "shell.execute_reply.started": "2022-06-23T00:20:14.082812Z"
    },
    "papermill": {
     "duration": 1.50894,
     "end_time": "2022-06-09T12:47:53.268738",
     "exception": false,
     "start_time": "2022-06-09T12:47:51.759798",
     "status": "completed"
    },
    "tags": []
   },
   "outputs": [],
   "source": [
    "from tqdm.auto import tqdm\n",
    "import numpy as np\n",
    "import pandas as pd\n",
    "\n",
    "from transformers import AutoModel, AutoTokenizer\n",
    "import torch"
   ]
  },
  {
   "cell_type": "markdown",
   "metadata": {
    "papermill": {
     "duration": 0.006976,
     "end_time": "2022-06-09T12:47:54.174273",
     "exception": false,
     "start_time": "2022-06-09T12:47:54.167297",
     "status": "completed"
    },
    "tags": []
   },
   "source": [
    "## Load Specter"
   ]
  },
  {
   "cell_type": "code",
   "execution_count": null,
   "metadata": {
    "execution": {
     "iopub.execute_input": "2022-07-05T19:47:54.359185Z",
     "iopub.status.busy": "2022-07-05T19:47:54.358845Z",
     "iopub.status.idle": "2022-07-05T19:47:54.364605Z",
     "shell.execute_reply": "2022-07-05T19:47:54.363282Z",
     "shell.execute_reply.started": "2022-07-05T19:47:54.359161Z"
    }
   },
   "outputs": [],
   "source": [
    "DEVICE = 0 if torch.cuda.is_available() else -1"
   ]
  },
  {
   "cell_type": "code",
   "execution_count": null,
   "metadata": {
    "execution": {
     "iopub.execute_input": "2022-07-05T19:47:55.157266Z",
     "iopub.status.busy": "2022-07-05T19:47:55.156627Z",
     "iopub.status.idle": "2022-07-05T19:47:57.512464Z",
     "shell.execute_reply": "2022-07-05T19:47:57.510958Z",
     "shell.execute_reply.started": "2022-07-05T19:47:55.157223Z"
    },
    "papermill": {
     "duration": 0.016389,
     "end_time": "2022-06-09T12:47:54.197397",
     "exception": false,
     "start_time": "2022-06-09T12:47:54.181008",
     "status": "completed"
    },
    "tags": []
   },
   "outputs": [],
   "source": [
    "tokenizer = AutoTokenizer.from_pretrained(\"allenai/specter\")\n",
    "model = AutoModel.from_pretrained(\"allenai/specter\")\n",
    "if DEVICE != -1:\n",
    "    model.to(DEVICE)"
   ]
  },
  {
   "cell_type": "markdown",
   "metadata": {},
   "source": [
    "## Generating the Embeddings"
   ]
  },
  {
   "cell_type": "code",
   "execution_count": null,
   "metadata": {
    "execution": {
     "iopub.execute_input": "2022-07-05T19:49:57.073780Z",
     "iopub.status.busy": "2022-07-05T19:49:57.073405Z",
     "iopub.status.idle": "2022-07-05T19:50:01.192441Z",
     "shell.execute_reply": "2022-07-05T19:50:01.188880Z",
     "shell.execute_reply.started": "2022-07-05T19:49:57.073754Z"
    }
   },
   "outputs": [],
   "source": [
    "reviews = pd.read_csv('../data/review_references_title_abstracts_sample_train.csv')\n",
    "def get_embeddings(texts):\n",
    "    embeddings = []\n",
    "    for i, text in tqdm(texts.iterrows(), total=len(texts)):\n",
    "        input_ids = tokenizer(text['title_abstract'], padding='max_length', truncation=True, return_tensors=\"pt\", max_length=512)\n",
    "        if DEVICE != -1:\n",
    "            input_ids.to(DEVICE)\n",
    "        embedding = model(**input_ids).last_hidden_state[:, 0, :]\n",
    "        embeddings.append(\n",
    "            embedding[0].cpu().detach().numpy(),\n",
    "        )\n",
    "    texts['embeddings'] = embeddings\n",
    "    return texts\n",
    "\n",
    "embeddings = get_embeddings(\n",
    "    reviews\n",
    ")\n",
    "pd.DataFrame(embeddings.to_csv(f'../data/reviews_with_embeddings_sample_train.csv'))"
   ]
  },
  {
   "cell_type": "code",
   "execution_count": null,
   "metadata": {},
   "outputs": [],
   "source": [
    "reviews = pd.read_csv('../data/review_references_title_abstracts_sample_test.csv')\n",
    "def get_embeddings(texts):\n",
    "    embeddings = []\n",
    "    for i, text in tqdm(texts.iterrows(), total=len(texts)):\n",
    "        input_ids = tokenizer(text['title_abstract'], padding='max_length', truncation=True, return_tensors=\"pt\", max_length=512)\n",
    "        if DEVICE != -1:\n",
    "            input_ids.to(DEVICE)\n",
    "        embedding = model(**input_ids).last_hidden_state[:, 0, :]\n",
    "        embeddings.append(\n",
    "            embedding[0].cpu().detach().numpy(),\n",
    "        )\n",
    "    texts['embeddings'] = embeddings\n",
    "    return texts\n",
    "\n",
    "embeddings = get_embeddings(\n",
    "    reviews\n",
    ")\n",
    "pd.DataFrame(embeddings.to_csv(f'../data/reviews_with_embeddings_sample_test.csv'))"
   ]
  }
 ],
 "metadata": {
  "kernelspec": {
   "display_name": "Python 3 (ipykernel)",
   "language": "python",
   "name": "python3"
  },
  "language_info": {
   "codemirror_mode": {
    "name": "ipython",
    "version": 3
   },
   "file_extension": ".py",
   "mimetype": "text/x-python",
   "name": "python",
   "nbconvert_exporter": "python",
   "pygments_lexer": "ipython3",
   "version": "3.9.13"
  },
  "vscode": {
   "interpreter": {
    "hash": "aee8b7b246df8f9039afb4144a1f6fd8d2ca17a180786b69acc140d282b71a49"
   }
  }
 },
 "nbformat": 4,
 "nbformat_minor": 4
}
