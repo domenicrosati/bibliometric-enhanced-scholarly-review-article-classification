{
 "cells": [
  {
   "cell_type": "code",
   "execution_count": 1,
   "id": "53758c84",
   "metadata": {
    "_cell_guid": "b1076dfc-b9ad-4769-8c92-a6c4dae69d19",
    "_uuid": "8f2839f25d086af736a60e9eeb907d3b93b6e0e5",
    "execution": {
     "iopub.execute_input": "2022-06-09T12:47:51.768455Z",
     "iopub.status.busy": "2022-06-09T12:47:51.767848Z",
     "iopub.status.idle": "2022-06-09T12:47:53.265636Z",
     "shell.execute_reply": "2022-06-09T12:47:53.264394Z"
    },
    "papermill": {
     "duration": 1.50894,
     "end_time": "2022-06-09T12:47:53.268738",
     "exception": false,
     "start_time": "2022-06-09T12:47:51.759798",
     "status": "completed"
    },
    "tags": []
   },
   "outputs": [],
   "source": [
    "from tqdm.auto import tqdm\n",
    "import numpy as np\n",
    "import pandas as pd\n",
    "\n",
    "from sklearn.model_selection import cross_val_score, StratifiedKFold\n",
    "from sklearn.feature_extraction.text import TfidfVectorizer\n",
    "from sklearn.linear_model import LogisticRegression\n",
    "from sklearn.svm import LinearSVC\n",
    "from sklearn.pipeline import Pipeline\n",
    "from sklearn.metrics import f1_score, accuracy_score, precision_score, recall_score\n",
    "from sklearn.preprocessing import StandardScaler"
   ]
  },
  {
   "cell_type": "code",
   "execution_count": 2,
   "id": "37cd7f87",
   "metadata": {
    "execution": {
     "iopub.execute_input": "2022-06-09T12:47:53.294967Z",
     "iopub.status.busy": "2022-06-09T12:47:53.294408Z",
     "iopub.status.idle": "2022-06-09T12:47:53.299073Z",
     "shell.execute_reply": "2022-06-09T12:47:53.298395Z"
    },
    "papermill": {
     "duration": 0.014006,
     "end_time": "2022-06-09T12:47:53.300986",
     "exception": false,
     "start_time": "2022-06-09T12:47:53.286980",
     "status": "completed"
    },
    "tags": []
   },
   "outputs": [],
   "source": [
    "train_df = pd.read_csv('../data/review_references_title_abstracts_sample_train.csv')\n",
    "test_df = pd.read_csv('../data/review_references_title_abstracts_sample_test.csv')"
   ]
  },
  {
   "cell_type": "code",
   "execution_count": 3,
   "id": "6440703c",
   "metadata": {},
   "outputs": [],
   "source": [
    "TARGET_COL_NAME = 'review'"
   ]
  },
  {
   "cell_type": "code",
   "execution_count": 4,
   "id": "9e1f78ca",
   "metadata": {
    "execution": {
     "iopub.execute_input": "2022-06-09T12:47:54.190099Z",
     "iopub.status.busy": "2022-06-09T12:47:54.189438Z",
     "iopub.status.idle": "2022-06-09T12:47:54.195373Z",
     "shell.execute_reply": "2022-06-09T12:47:54.194658Z"
    },
    "papermill": {
     "duration": 0.016389,
     "end_time": "2022-06-09T12:47:54.197397",
     "exception": false,
     "start_time": "2022-06-09T12:47:54.181008",
     "status": "completed"
    },
    "tags": []
   },
   "outputs": [],
   "source": [
    "tfidf_transformer = TfidfVectorizer(\n",
    "    ngram_range=(1, 2),\n",
    "    analyzer='word',\n",
    "    lowercase=True,\n",
    "    max_features=50000,\n",
    "    stop_words='english'\n",
    ")"
   ]
  },
  {
   "cell_type": "code",
   "execution_count": 5,
   "id": "e9d6ca05",
   "metadata": {
    "execution": {
     "iopub.execute_input": "2022-06-09T12:47:54.227043Z",
     "iopub.status.busy": "2022-06-09T12:47:54.226420Z",
     "iopub.status.idle": "2022-06-09T12:47:54.230616Z",
     "shell.execute_reply": "2022-06-09T12:47:54.229718Z"
    },
    "papermill": {
     "duration": 0.014594,
     "end_time": "2022-06-09T12:47:54.232772",
     "exception": false,
     "start_time": "2022-06-09T12:47:54.218178",
     "status": "completed"
    },
    "tags": []
   },
   "outputs": [],
   "source": [
    "skf = StratifiedKFold(n_splits=5, shuffle=True, random_state=17)"
   ]
  },
  {
   "cell_type": "code",
   "execution_count": 7,
   "id": "2c36c255",
   "metadata": {
    "execution": {
     "iopub.execute_input": "2022-06-09T12:47:54.262204Z",
     "iopub.status.busy": "2022-06-09T12:47:54.261542Z",
     "iopub.status.idle": "2022-06-09T12:48:39.913937Z",
     "shell.execute_reply": "2022-06-09T12:48:39.911722Z"
    },
    "papermill": {
     "duration": 45.663186,
     "end_time": "2022-06-09T12:48:39.916548",
     "exception": false,
     "start_time": "2022-06-09T12:47:54.253362",
     "status": "completed"
    },
    "tags": []
   },
   "outputs": [
    {
     "data": {
      "application/vnd.jupyter.widget-view+json": {
       "model_id": "3ed2dd2e89e04f578f9b5f388645c70b",
       "version_major": 2,
       "version_minor": 0
      },
      "text/plain": [
       "0it [00:00, ?it/s]"
      ]
     },
     "metadata": {},
     "output_type": "display_data"
    },
    {
     "name": "stdout",
     "output_type": "stream",
     "text": [
      "F1-score for fold 0 is 0.535. Accuracy is 0.934. Precision is 0.796. Recall is 0.403.\n",
      "F1-score for fold 1 is 0.531. Accuracy is 0.934. Precision is 0.786. Recall is 0.401.\n",
      "F1-score for fold 2 is 0.548. Accuracy is 0.936. Precision is 0.801. Recall is 0.416.\n",
      "F1-score for fold 3 is 0.511. Accuracy is 0.932. Precision is 0.794. Recall is 0.377.\n",
      "F1-score for fold 4 is 0.532. Accuracy is 0.935. Precision is 0.81. Recall is 0.397.\n",
      "Average cross-validation F1-score is 0.531 +/- 0.0118.\n",
      "Average cross-validation ACC is 0.934 +/- 0.00107.\n",
      "Average cross-validation Prec is 0.797 +/- 0.00795.\n",
      "Average cross-validation Recall is 0.399 +/- 0.0127.\n"
     ]
    }
   ],
   "source": [
    "INPUT_COL_NAMES = 'title_abstract'\n",
    "\n",
    "\n",
    "logreg = LogisticRegression(\n",
    "    C=1,\n",
    "    random_state=42,\n",
    "    solver='sag',\n",
    "    n_jobs=-1,\n",
    "    max_iter=500\n",
    ")\n",
    "\n",
    "model = Pipeline([\n",
    "    ('tfidf', tfidf_transformer), \n",
    "    ('logit', logreg)\n",
    "])\n",
    "\n",
    "\n",
    "acc_scores, prec_scores, cv_f1_scores, recall_scores = [], [], [], []\n",
    "skf_split_generator = skf.split(X=train_df[INPUT_COL_NAMES], y=train_df[TARGET_COL_NAME])\n",
    "\n",
    "for fold_id, (train_idx, val_idx) in tqdm(enumerate(skf_split_generator)):\n",
    "    curr_train_df = train_df.iloc[train_idx]\n",
    "    curr_val_df = train_df.iloc[val_idx]\n",
    "    \n",
    "    model.fit(X=curr_train_df[INPUT_COL_NAMES], y=curr_train_df[TARGET_COL_NAME])\n",
    "    \n",
    "    # making predictions for the current validation set\n",
    "    curr_preds = model.predict(X=curr_val_df[INPUT_COL_NAMES])\n",
    "    curr_f1 = f1_score(y_true=curr_val_df[TARGET_COL_NAME], y_pred=curr_preds)\n",
    "    curr_acc = accuracy_score(y_true=curr_val_df[TARGET_COL_NAME], y_pred=curr_preds)\n",
    "    curr_prec = precision_score(y_true=curr_val_df[TARGET_COL_NAME], y_pred=curr_preds)\n",
    "    curr_recall = recall_score(y_true=curr_val_df[TARGET_COL_NAME], y_pred=curr_preds)\n",
    "    cv_f1_scores.append(curr_f1)\n",
    "    acc_scores.append(curr_acc)\n",
    "    prec_scores.append(curr_prec)\n",
    "    recall_scores.append(curr_recall)\n",
    "    print(f\"F1-score for fold {fold_id} is {curr_f1:.3}. Accuracy is {curr_acc:.3}. Precision is {curr_prec:.3}. Recall is {curr_recall:.3}.\")\n",
    "\n",
    "print(f'Average cross-validation F1-score is {np.mean(cv_f1_scores):.3} +/- {np.std(cv_f1_scores):.3}.')\n",
    "print(f'Average cross-validation ACC is {np.mean(acc_scores):.3} +/- {np.std(acc_scores):.3}.')\n",
    "print(f'Average cross-validation Prec is {np.mean(prec_scores):.3} +/- {np.std(prec_scores):.3}.')\n",
    "print(f'Average cross-validation Recall is {np.mean(recall_scores):.3} +/- {np.std(recall_scores):.3}.')"
   ]
  },
  {
   "cell_type": "code",
   "execution_count": 10,
   "id": "af67479b",
   "metadata": {},
   "outputs": [
    {
     "name": "stdout",
     "output_type": "stream",
     "text": [
      "functions 2.9517344231308966\n",
      "summarize 2.984254751189903\n",
      "aspects 2.984634518749673\n",
      "evidence 3.0006540352419746\n",
      "immune 3.005570438511807\n",
      "disease 3.0300333831990662\n",
      "diseases 3.1441516855159923\n",
      "systematic review 3.220770778216716\n",
      "approaches 3.2387669412087177\n",
      "advances 3.2497165379878896\n",
      "current 3.3215531085071923\n",
      "discussed 3.327408713503976\n",
      "strategies 3.339450938883755\n",
      "include 3.4938949571571474\n",
      "understanding 3.572797879458418\n",
      "reviewed 3.6724603829502254\n",
      "meta analysis 3.835393556796889\n",
      "meta 3.901249451748954\n",
      "discuss 4.255185871290517\n",
      "overview 4.509952398215733\n",
      "mechanisms 4.653234908245823\n",
      "literature 4.8777822000295386\n",
      "recent 6.327817179756542\n",
      "studies 7.686248215812307\n",
      "review 19.163369291319626\n"
     ]
    }
   ],
   "source": [
    "top_words = np.argsort(model['logit'].coef_[0])[-25:]\n",
    "for word in top_words:\n",
    "    print(model['tfidf'].get_feature_names_out()[word], model['logit'].coef_[0][word])"
   ]
  },
  {
   "cell_type": "code",
   "execution_count": 8,
   "id": "72a7c352",
   "metadata": {},
   "outputs": [
    {
     "name": "stdout",
     "output_type": "stream",
     "text": [
      "study -7.819562866174619\n",
      "results -4.196277749601822\n",
      "using -4.057720331064499\n",
      "showed -3.350426224821404\n",
      "report -2.998919486271501\n",
      "significantly -2.9925083205652823\n",
      "expression -2.974439968361307\n",
      "mice -2.9523398167549786\n",
      "method -2.7361959453876588\n",
      "year -2.72302414128119\n",
      "observed -2.6169859836090588\n",
      "demonstrate -2.5486911189558907\n",
      "model -2.4242500830964677\n",
      "induced -2.374080912986398\n",
      "treated -2.355052096509867\n",
      "effect -2.275316545333808\n",
      "did -2.2237861120419935\n",
      "10 -2.16670860000283\n",
      "rats -2.1518167833534143\n",
      "rat -2.1429376726933156\n",
      "participants -2.142503115704531\n",
      "levels -1.964023719882493\n",
      "investigated -1.9289137075962708\n",
      "al -1.908257957636246\n",
      "previously -1.8930140933282456\n"
     ]
    }
   ],
   "source": [
    "top_words = np.argsort(model['logit'].coef_[0])[:25]\n",
    "for word in top_words:\n",
    "    print(model['tfidf'].get_feature_names_out()[word], model['logit'].coef_[0][word])"
   ]
  },
  {
   "cell_type": "code",
   "execution_count": 9,
   "id": "56a57baa",
   "metadata": {},
   "outputs": [
    {
     "name": "stdout",
     "output_type": "stream",
     "text": [
      "F1-score for is 0.589. Accuracy is 0.941. Precision is 0.853. Recall is 0.45.\n"
     ]
    }
   ],
   "source": [
    "curr_preds = model.predict(X=test_df[INPUT_COL_NAMES])\n",
    "curr_f1 = f1_score(y_true=test_df[TARGET_COL_NAME], y_pred=curr_preds)\n",
    "curr_acc = accuracy_score(y_true=test_df[TARGET_COL_NAME], y_pred=curr_preds)\n",
    "curr_prec = precision_score(y_true=test_df[TARGET_COL_NAME], y_pred=curr_preds)\n",
    "curr_recall = recall_score(y_true=test_df[TARGET_COL_NAME], y_pred=curr_preds)\n",
    "print(f\"F1-score for is {curr_f1:.3}. Accuracy is {curr_acc:.3}. Precision is {curr_prec:.3}. Recall is {curr_recall:.3}.\")"
   ]
  }
 ],
 "metadata": {
  "kernelspec": {
   "display_name": "Python 3",
   "language": "python",
   "name": "python3"
  },
  "language_info": {
   "codemirror_mode": {
    "name": "ipython",
    "version": 3
   },
   "file_extension": ".py",
   "mimetype": "text/x-python",
   "name": "python",
   "nbconvert_exporter": "python",
   "pygments_lexer": "ipython3",
   "version": "3.9.13"
  },
  "papermill": {
   "default_parameters": {},
   "duration": 61.651943,
   "end_time": "2022-06-09T12:48:42.674191",
   "environment_variables": {},
   "exception": null,
   "input_path": "__notebook__.ipynb",
   "output_path": "__notebook__.ipynb",
   "parameters": {},
   "start_time": "2022-06-09T12:47:41.022248",
   "version": "2.3.4"
  },
  "widgets": {
   "application/vnd.jupyter.widget-state+json": {
    "state": {
     "2e74b0ec8fe64dc6a98de21d72c69c61": {
      "model_module": "@jupyter-widgets/controls",
      "model_module_version": "1.5.0",
      "model_name": "FloatProgressModel",
      "state": {
       "_dom_classes": [],
       "_model_module": "@jupyter-widgets/controls",
       "_model_module_version": "1.5.0",
       "_model_name": "FloatProgressModel",
       "_view_count": null,
       "_view_module": "@jupyter-widgets/controls",
       "_view_module_version": "1.5.0",
       "_view_name": "ProgressView",
       "bar_style": "success",
       "description": "",
       "description_tooltip": null,
       "layout": "IPY_MODEL_72df093d4b1e4999bf8c4a1761cc058c",
       "max": 1,
       "min": 0,
       "orientation": "horizontal",
       "style": "IPY_MODEL_a239016f5a32419b9c993c81152e7d93",
       "value": 1
      }
     },
     "72df093d4b1e4999bf8c4a1761cc058c": {
      "model_module": "@jupyter-widgets/base",
      "model_module_version": "1.2.0",
      "model_name": "LayoutModel",
      "state": {
       "_model_module": "@jupyter-widgets/base",
       "_model_module_version": "1.2.0",
       "_model_name": "LayoutModel",
       "_view_count": null,
       "_view_module": "@jupyter-widgets/base",
       "_view_module_version": "1.2.0",
       "_view_name": "LayoutView",
       "align_content": null,
       "align_items": null,
       "align_self": null,
       "border": null,
       "bottom": null,
       "display": null,
       "flex": null,
       "flex_flow": null,
       "grid_area": null,
       "grid_auto_columns": null,
       "grid_auto_flow": null,
       "grid_auto_rows": null,
       "grid_column": null,
       "grid_gap": null,
       "grid_row": null,
       "grid_template_areas": null,
       "grid_template_columns": null,
       "grid_template_rows": null,
       "height": null,
       "justify_content": null,
       "justify_items": null,
       "left": null,
       "margin": null,
       "max_height": null,
       "max_width": null,
       "min_height": null,
       "min_width": null,
       "object_fit": null,
       "object_position": null,
       "order": null,
       "overflow": null,
       "overflow_x": null,
       "overflow_y": null,
       "padding": null,
       "right": null,
       "top": null,
       "visibility": null,
       "width": "20px"
      }
     },
     "764cd0d06aa6468185a01801a2f18f20": {
      "model_module": "@jupyter-widgets/controls",
      "model_module_version": "1.5.0",
      "model_name": "DescriptionStyleModel",
      "state": {
       "_model_module": "@jupyter-widgets/controls",
       "_model_module_version": "1.5.0",
       "_model_name": "DescriptionStyleModel",
       "_view_count": null,
       "_view_module": "@jupyter-widgets/base",
       "_view_module_version": "1.2.0",
       "_view_name": "StyleView",
       "description_width": ""
      }
     },
     "7e066bcee5744677b420312942697913": {
      "model_module": "@jupyter-widgets/controls",
      "model_module_version": "1.5.0",
      "model_name": "HBoxModel",
      "state": {
       "_dom_classes": [],
       "_model_module": "@jupyter-widgets/controls",
       "_model_module_version": "1.5.0",
       "_model_name": "HBoxModel",
       "_view_count": null,
       "_view_module": "@jupyter-widgets/controls",
       "_view_module_version": "1.5.0",
       "_view_name": "HBoxView",
       "box_style": "",
       "children": [
        "IPY_MODEL_a5b21017fcd347c7b4363b7560a08633",
        "IPY_MODEL_2e74b0ec8fe64dc6a98de21d72c69c61",
        "IPY_MODEL_dc702df072b14120a1f37bc9dc82b486"
       ],
       "layout": "IPY_MODEL_a0ea6b35dd6649e99c1f3f8379889bd0"
      }
     },
     "a0ea6b35dd6649e99c1f3f8379889bd0": {
      "model_module": "@jupyter-widgets/base",
      "model_module_version": "1.2.0",
      "model_name": "LayoutModel",
      "state": {
       "_model_module": "@jupyter-widgets/base",
       "_model_module_version": "1.2.0",
       "_model_name": "LayoutModel",
       "_view_count": null,
       "_view_module": "@jupyter-widgets/base",
       "_view_module_version": "1.2.0",
       "_view_name": "LayoutView",
       "align_content": null,
       "align_items": null,
       "align_self": null,
       "border": null,
       "bottom": null,
       "display": null,
       "flex": null,
       "flex_flow": null,
       "grid_area": null,
       "grid_auto_columns": null,
       "grid_auto_flow": null,
       "grid_auto_rows": null,
       "grid_column": null,
       "grid_gap": null,
       "grid_row": null,
       "grid_template_areas": null,
       "grid_template_columns": null,
       "grid_template_rows": null,
       "height": null,
       "justify_content": null,
       "justify_items": null,
       "left": null,
       "margin": null,
       "max_height": null,
       "max_width": null,
       "min_height": null,
       "min_width": null,
       "object_fit": null,
       "object_position": null,
       "order": null,
       "overflow": null,
       "overflow_x": null,
       "overflow_y": null,
       "padding": null,
       "right": null,
       "top": null,
       "visibility": null,
       "width": null
      }
     },
     "a239016f5a32419b9c993c81152e7d93": {
      "model_module": "@jupyter-widgets/controls",
      "model_module_version": "1.5.0",
      "model_name": "ProgressStyleModel",
      "state": {
       "_model_module": "@jupyter-widgets/controls",
       "_model_module_version": "1.5.0",
       "_model_name": "ProgressStyleModel",
       "_view_count": null,
       "_view_module": "@jupyter-widgets/base",
       "_view_module_version": "1.2.0",
       "_view_name": "StyleView",
       "bar_color": null,
       "description_width": ""
      }
     },
     "a5b21017fcd347c7b4363b7560a08633": {
      "model_module": "@jupyter-widgets/controls",
      "model_module_version": "1.5.0",
      "model_name": "HTMLModel",
      "state": {
       "_dom_classes": [],
       "_model_module": "@jupyter-widgets/controls",
       "_model_module_version": "1.5.0",
       "_model_name": "HTMLModel",
       "_view_count": null,
       "_view_module": "@jupyter-widgets/controls",
       "_view_module_version": "1.5.0",
       "_view_name": "HTMLView",
       "description": "",
       "description_tooltip": null,
       "layout": "IPY_MODEL_b8868d3d9c4440e4a7a1148583462b0b",
       "placeholder": "​",
       "style": "IPY_MODEL_d22b6df5c2d24b529ae4b06450c510cb",
       "value": ""
      }
     },
     "b8868d3d9c4440e4a7a1148583462b0b": {
      "model_module": "@jupyter-widgets/base",
      "model_module_version": "1.2.0",
      "model_name": "LayoutModel",
      "state": {
       "_model_module": "@jupyter-widgets/base",
       "_model_module_version": "1.2.0",
       "_model_name": "LayoutModel",
       "_view_count": null,
       "_view_module": "@jupyter-widgets/base",
       "_view_module_version": "1.2.0",
       "_view_name": "LayoutView",
       "align_content": null,
       "align_items": null,
       "align_self": null,
       "border": null,
       "bottom": null,
       "display": null,
       "flex": null,
       "flex_flow": null,
       "grid_area": null,
       "grid_auto_columns": null,
       "grid_auto_flow": null,
       "grid_auto_rows": null,
       "grid_column": null,
       "grid_gap": null,
       "grid_row": null,
       "grid_template_areas": null,
       "grid_template_columns": null,
       "grid_template_rows": null,
       "height": null,
       "justify_content": null,
       "justify_items": null,
       "left": null,
       "margin": null,
       "max_height": null,
       "max_width": null,
       "min_height": null,
       "min_width": null,
       "object_fit": null,
       "object_position": null,
       "order": null,
       "overflow": null,
       "overflow_x": null,
       "overflow_y": null,
       "padding": null,
       "right": null,
       "top": null,
       "visibility": null,
       "width": null
      }
     },
     "d22b6df5c2d24b529ae4b06450c510cb": {
      "model_module": "@jupyter-widgets/controls",
      "model_module_version": "1.5.0",
      "model_name": "DescriptionStyleModel",
      "state": {
       "_model_module": "@jupyter-widgets/controls",
       "_model_module_version": "1.5.0",
       "_model_name": "DescriptionStyleModel",
       "_view_count": null,
       "_view_module": "@jupyter-widgets/base",
       "_view_module_version": "1.2.0",
       "_view_name": "StyleView",
       "description_width": ""
      }
     },
     "dc702df072b14120a1f37bc9dc82b486": {
      "model_module": "@jupyter-widgets/controls",
      "model_module_version": "1.5.0",
      "model_name": "HTMLModel",
      "state": {
       "_dom_classes": [],
       "_model_module": "@jupyter-widgets/controls",
       "_model_module_version": "1.5.0",
       "_model_name": "HTMLModel",
       "_view_count": null,
       "_view_module": "@jupyter-widgets/controls",
       "_view_module_version": "1.5.0",
       "_view_name": "HTMLView",
       "description": "",
       "description_tooltip": null,
       "layout": "IPY_MODEL_f7c3ba65dc0046a7b0ec95f5879bd8f3",
       "placeholder": "​",
       "style": "IPY_MODEL_764cd0d06aa6468185a01801a2f18f20",
       "value": " 5/? [00:45&lt;00:00,  9.05s/it]"
      }
     },
     "f7c3ba65dc0046a7b0ec95f5879bd8f3": {
      "model_module": "@jupyter-widgets/base",
      "model_module_version": "1.2.0",
      "model_name": "LayoutModel",
      "state": {
       "_model_module": "@jupyter-widgets/base",
       "_model_module_version": "1.2.0",
       "_model_name": "LayoutModel",
       "_view_count": null,
       "_view_module": "@jupyter-widgets/base",
       "_view_module_version": "1.2.0",
       "_view_name": "LayoutView",
       "align_content": null,
       "align_items": null,
       "align_self": null,
       "border": null,
       "bottom": null,
       "display": null,
       "flex": null,
       "flex_flow": null,
       "grid_area": null,
       "grid_auto_columns": null,
       "grid_auto_flow": null,
       "grid_auto_rows": null,
       "grid_column": null,
       "grid_gap": null,
       "grid_row": null,
       "grid_template_areas": null,
       "grid_template_columns": null,
       "grid_template_rows": null,
       "height": null,
       "justify_content": null,
       "justify_items": null,
       "left": null,
       "margin": null,
       "max_height": null,
       "max_width": null,
       "min_height": null,
       "min_width": null,
       "object_fit": null,
       "object_position": null,
       "order": null,
       "overflow": null,
       "overflow_x": null,
       "overflow_y": null,
       "padding": null,
       "right": null,
       "top": null,
       "visibility": null,
       "width": null
      }
     }
    },
    "version_major": 2,
    "version_minor": 0
   }
  }
 },
 "nbformat": 4,
 "nbformat_minor": 5
}
